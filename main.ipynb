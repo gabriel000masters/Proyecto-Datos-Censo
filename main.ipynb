{
 "cells": [
  {
   "cell_type": "code",
   "execution_count": null,
   "metadata": {},
   "outputs": [],
   "source": [
    "print(\"hola\")"
   ]
  }
 ],
 "metadata": {
  "kernelspec": {
   "display_name": "Python 3.8.6 64-bit",
   "language": "python",
   "name": "python3"
  },
  "language_info": {
   "name": "python",
   "version": "3.8.6"
  },
  "orig_nbformat": 4,
  "vscode": {
   "interpreter": {
    "hash": "b8db551718bf6023f9f98e0f2c1bb5eb769492716059edfee8aba35da5041ad1"
   }
  }
 },
 "nbformat": 4,
 "nbformat_minor": 2
}
